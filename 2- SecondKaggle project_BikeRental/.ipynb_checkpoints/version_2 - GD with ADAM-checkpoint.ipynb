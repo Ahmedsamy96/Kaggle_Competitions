{
 "cells": [
  {
   "cell_type": "code",
   "execution_count": 1,
   "metadata": {},
   "outputs": [],
   "source": [
    "import numpy as np\n",
    "import pandas as pd\n",
    "import datetime as dt\n",
    "from sklearn import preprocessing\n"
   ]
  },
  {
   "cell_type": "code",
   "execution_count": 2,
   "metadata": {},
   "outputs": [
    {
     "name": "stdout",
     "output_type": "stream",
     "text": [
      "The shape of the dataset is (5760, 15).\n",
      "\n",
      "\n"
     ]
    },
    {
     "data": {
      "text/html": [
       "<div>\n",
       "<style scoped>\n",
       "    .dataframe tbody tr th:only-of-type {\n",
       "        vertical-align: middle;\n",
       "    }\n",
       "\n",
       "    .dataframe tbody tr th {\n",
       "        vertical-align: top;\n",
       "    }\n",
       "\n",
       "    .dataframe thead th {\n",
       "        text-align: right;\n",
       "    }\n",
       "</style>\n",
       "<table border=\"1\" class=\"dataframe\">\n",
       "  <thead>\n",
       "    <tr style=\"text-align: right;\">\n",
       "      <th></th>\n",
       "      <th>Date</th>\n",
       "      <th>y</th>\n",
       "      <th>Hour</th>\n",
       "      <th>Temperature(�C)</th>\n",
       "      <th>Humidity(%)</th>\n",
       "      <th>Wind speed (m/s)</th>\n",
       "      <th>Visibility (10m)</th>\n",
       "      <th>Dew point temperature(�C)</th>\n",
       "      <th>Solar Radiation (MJ/m2)</th>\n",
       "      <th>Rainfall(mm)</th>\n",
       "      <th>Snowfall (cm)</th>\n",
       "      <th>Seasons</th>\n",
       "      <th>Holiday</th>\n",
       "      <th>Functioning Day</th>\n",
       "    </tr>\n",
       "  </thead>\n",
       "  <tbody>\n",
       "    <tr>\n",
       "      <th>0</th>\n",
       "      <td>0.0</td>\n",
       "      <td>0.071429</td>\n",
       "      <td>0.000000</td>\n",
       "      <td>0.181651</td>\n",
       "      <td>0.377551</td>\n",
       "      <td>0.297297</td>\n",
       "      <td>1.0</td>\n",
       "      <td>0.171904</td>\n",
       "      <td>0.0</td>\n",
       "      <td>0.0</td>\n",
       "      <td>0.0</td>\n",
       "      <td>0.666667</td>\n",
       "      <td>0.0</td>\n",
       "      <td>1.0</td>\n",
       "    </tr>\n",
       "    <tr>\n",
       "      <th>1</th>\n",
       "      <td>0.0</td>\n",
       "      <td>0.057368</td>\n",
       "      <td>0.043478</td>\n",
       "      <td>0.176147</td>\n",
       "      <td>0.387755</td>\n",
       "      <td>0.108108</td>\n",
       "      <td>1.0</td>\n",
       "      <td>0.171904</td>\n",
       "      <td>0.0</td>\n",
       "      <td>0.0</td>\n",
       "      <td>0.0</td>\n",
       "      <td>0.666667</td>\n",
       "      <td>0.0</td>\n",
       "      <td>1.0</td>\n",
       "    </tr>\n",
       "    <tr>\n",
       "      <th>2</th>\n",
       "      <td>0.0</td>\n",
       "      <td>0.048650</td>\n",
       "      <td>0.086957</td>\n",
       "      <td>0.166972</td>\n",
       "      <td>0.397959</td>\n",
       "      <td>0.135135</td>\n",
       "      <td>1.0</td>\n",
       "      <td>0.170055</td>\n",
       "      <td>0.0</td>\n",
       "      <td>0.0</td>\n",
       "      <td>0.0</td>\n",
       "      <td>0.666667</td>\n",
       "      <td>0.0</td>\n",
       "      <td>1.0</td>\n",
       "    </tr>\n",
       "    <tr>\n",
       "      <th>3</th>\n",
       "      <td>0.0</td>\n",
       "      <td>0.030090</td>\n",
       "      <td>0.130435</td>\n",
       "      <td>0.163303</td>\n",
       "      <td>0.408163</td>\n",
       "      <td>0.121622</td>\n",
       "      <td>1.0</td>\n",
       "      <td>0.171904</td>\n",
       "      <td>0.0</td>\n",
       "      <td>0.0</td>\n",
       "      <td>0.0</td>\n",
       "      <td>0.666667</td>\n",
       "      <td>0.0</td>\n",
       "      <td>1.0</td>\n",
       "    </tr>\n",
       "    <tr>\n",
       "      <th>4</th>\n",
       "      <td>0.0</td>\n",
       "      <td>0.021935</td>\n",
       "      <td>0.173913</td>\n",
       "      <td>0.166972</td>\n",
       "      <td>0.367347</td>\n",
       "      <td>0.310811</td>\n",
       "      <td>1.0</td>\n",
       "      <td>0.153420</td>\n",
       "      <td>0.0</td>\n",
       "      <td>0.0</td>\n",
       "      <td>0.0</td>\n",
       "      <td>0.666667</td>\n",
       "      <td>0.0</td>\n",
       "      <td>1.0</td>\n",
       "    </tr>\n",
       "  </tbody>\n",
       "</table>\n",
       "</div>"
      ],
      "text/plain": [
       "   Date         y      Hour  Temperature(�C)  Humidity(%)  Wind speed (m/s)  \\\n",
       "0   0.0  0.071429  0.000000         0.181651     0.377551          0.297297   \n",
       "1   0.0  0.057368  0.043478         0.176147     0.387755          0.108108   \n",
       "2   0.0  0.048650  0.086957         0.166972     0.397959          0.135135   \n",
       "3   0.0  0.030090  0.130435         0.163303     0.408163          0.121622   \n",
       "4   0.0  0.021935  0.173913         0.166972     0.367347          0.310811   \n",
       "\n",
       "   Visibility (10m)  Dew point temperature(�C)  Solar Radiation (MJ/m2)  \\\n",
       "0               1.0                   0.171904                      0.0   \n",
       "1               1.0                   0.171904                      0.0   \n",
       "2               1.0                   0.170055                      0.0   \n",
       "3               1.0                   0.171904                      0.0   \n",
       "4               1.0                   0.153420                      0.0   \n",
       "\n",
       "   Rainfall(mm)  Snowfall (cm)   Seasons  Holiday  Functioning Day  \n",
       "0           0.0            0.0  0.666667      0.0              1.0  \n",
       "1           0.0            0.0  0.666667      0.0              1.0  \n",
       "2           0.0            0.0  0.666667      0.0              1.0  \n",
       "3           0.0            0.0  0.666667      0.0              1.0  \n",
       "4           0.0            0.0  0.666667      0.0              1.0  "
      ]
     },
     "execution_count": 2,
     "metadata": {},
     "output_type": "execute_result"
    }
   ],
   "source": [
    "df = pd.read_csv('train.csv')\n",
    "print(\"The shape of the dataset is {}.\\n\\n\".format(df.shape))\n",
    "df=df.drop(columns='ID')\n",
    "\n",
    "#columns converting\n",
    "df['Functioning Day']=df['Functioning Day'].map(dict(Yes=1, No=0))\n",
    "\n",
    "Holidays_map = {'Holiday': 1, 'No Holiday': 0}\n",
    "df['Holiday']=df['Holiday'].map(Holidays_map)\n",
    "\n",
    "seasons_map = {'Summer': 0, 'Autumn': 1,'Winter':2,'Spring':3}\n",
    "df['Seasons']=df['Seasons'].map(seasons_map)\n",
    "\n",
    "df['Date'] = pd.to_datetime(df['Date'])\n",
    "df['Date']=df['Date'].map(dt.datetime.toordinal)\n",
    "\n",
    "#rescaling data to make all data in range -1 ,1\n",
    "\n",
    "df= (df-df.mean()) / df.std()\n",
    "df=(df-df.min())/(df.max()-df.min())\n",
    "\n",
    "\n",
    "df.to_csv('file_name.csv',index=False)\n",
    "df.head()\n",
    "\n"
   ]
  },
  {
   "cell_type": "code",
   "execution_count": 3,
   "metadata": {},
   "outputs": [
    {
     "data": {
      "text/html": [
       "<div>\n",
       "<style scoped>\n",
       "    .dataframe tbody tr th:only-of-type {\n",
       "        vertical-align: middle;\n",
       "    }\n",
       "\n",
       "    .dataframe tbody tr th {\n",
       "        vertical-align: top;\n",
       "    }\n",
       "\n",
       "    .dataframe thead th {\n",
       "        text-align: right;\n",
       "    }\n",
       "</style>\n",
       "<table border=\"1\" class=\"dataframe\">\n",
       "  <thead>\n",
       "    <tr style=\"text-align: right;\">\n",
       "      <th></th>\n",
       "      <th>y</th>\n",
       "    </tr>\n",
       "  </thead>\n",
       "  <tbody>\n",
       "    <tr>\n",
       "      <th>0</th>\n",
       "      <td>0.071429</td>\n",
       "    </tr>\n",
       "    <tr>\n",
       "      <th>1</th>\n",
       "      <td>0.057368</td>\n",
       "    </tr>\n",
       "    <tr>\n",
       "      <th>2</th>\n",
       "      <td>0.048650</td>\n",
       "    </tr>\n",
       "    <tr>\n",
       "      <th>3</th>\n",
       "      <td>0.030090</td>\n",
       "    </tr>\n",
       "    <tr>\n",
       "      <th>4</th>\n",
       "      <td>0.021935</td>\n",
       "    </tr>\n",
       "  </tbody>\n",
       "</table>\n",
       "</div>"
      ],
      "text/plain": [
       "          y\n",
       "0  0.071429\n",
       "1  0.057368\n",
       "2  0.048650\n",
       "3  0.030090\n",
       "4  0.021935"
      ]
     },
     "execution_count": 3,
     "metadata": {},
     "output_type": "execute_result"
    }
   ],
   "source": [
    "#spliting data to x and y\n",
    "x=df.drop(columns='y')\n",
    "#and ones to data features\n",
    "x.insert(0,'ones',1)\n",
    "\n",
    "\n",
    "y=df[[\"y\"]]\n",
    "min_df=y.min()\n",
    "max_df=y.max()\n",
    "#y.head()\n",
    "x2=np.matrix(x.values)\n",
    "y2=np.matrix(y.values)\n",
    "thetas=np.matrix(np.array([0,0,0,0,0,0,0,0,0,0,0,0,0,0]))\n",
    "(y.head())\n"
   ]
  },
  {
   "cell_type": "code",
   "execution_count": 4,
   "metadata": {},
   "outputs": [
    {
     "name": "stdout",
     "output_type": "stream",
     "text": [
      "0.03654238624533619\n"
     ]
    }
   ],
   "source": [
    "def costF2(x2,y2,theta):\n",
    "    z2=np.power(((x2 * theta.T) - y2),2)\n",
    "    return np.sum(z2) / (2 * len(x2))\n",
    "print(costF2(x2,y2,thetas))"
   ]
  },
  {
   "cell_type": "code",
   "execution_count": 5,
   "metadata": {},
   "outputs": [
    {
     "name": "stdout",
     "output_type": "stream",
     "text": [
      "Theta Values is :  [[-0.02925848  0.0268362   0.15024127  0.13092666 -0.08498095  0.01417495\n",
      "   0.04483473  0.09033931  0.04904427 -0.00910947 -0.01081757 -0.08963254\n",
      "  -0.02030389  0.07287005]]\n"
     ]
    }
   ],
   "source": [
    "def GD2(x2,y2,thetas,alpha,iters):\n",
    "    temp2 = np.matrix(np.zeros(thetas.shape))\n",
    "    param2= int(thetas.ravel().shape[1])\n",
    "    cost2=np.zeros(iters)\n",
    "    \n",
    "    for i in range(iters):\n",
    "        error= (x2 * thetas.T) - y2\n",
    "        \n",
    "        for j in range(param2):\n",
    "            term2=np.multiply(error,x2[:,j])\n",
    "            temp2[0,j] = thetas[0,j] - ((alpha / len(x2)) * np.sum(term2) )\n",
    "        \n",
    "        thetas= temp2\n",
    "        cost2[i] = costF2(x2,y2,thetas)\n",
    "    return thetas ,cost2\n",
    "    \n",
    "alpha=0.03\n",
    "iters=500\n",
    "\n",
    "g2 ,cost2 = GD2(x2,y2,thetas,alpha,iters)\n",
    "print('Theta Values is : ' ,(g2))\n",
    "#print('cost is : ' ,cost2)\n",
    "#print('cost function is:', costF2(x2,y2,thetas))\n"
   ]
  },
  {
   "cell_type": "code",
   "execution_count": 6,
   "metadata": {},
   "outputs": [
    {
     "data": {
      "text/plain": [
       "Date                         0.219361\n",
       "y                            1.000000\n",
       "Hour                         0.407180\n",
       "Temperature(�C)              0.544281\n",
       "Humidity(%)                 -0.191603\n",
       "Wind speed (m/s)             0.116380\n",
       "Visibility (10m)             0.214777\n",
       "Dew point temperature(�C)    0.392454\n",
       "Solar Radiation (MJ/m2)      0.250601\n",
       "Rainfall(mm)                -0.117711\n",
       "Snowfall (cm)               -0.120836\n",
       "Seasons                     -0.325915\n",
       "Holiday                     -0.058329\n",
       "Functioning Day              0.227269\n",
       "Name: y, dtype: float64"
      ]
     },
     "execution_count": 6,
     "metadata": {},
     "output_type": "execute_result"
    }
   ],
   "source": [
    "corr = df.corr()\n",
    "corr['y']"
   ]
  },
  {
   "cell_type": "code",
   "execution_count": 7,
   "metadata": {},
   "outputs": [
    {
     "name": "stdout",
     "output_type": "stream",
     "text": [
      "[[-0.029258479776705534, 0.026836204697855713, 0.15024127461142633, 0.13092666263703498, -0.08498094552037719, 0.01417494855291938, 0.0448347343132914, 0.09033931046117004, 0.04904427234579826, -0.009109469283952135, -0.010817570646985273, -0.08963253890965846, -0.02030389421180468, 0.07287004891087162]]\n",
      "[[0.04205037]\n",
      " [0.04393566]\n",
      " [0.04838175]\n",
      " ...\n",
      " [0.26677508]\n",
      " [0.27280757]\n",
      " [0.27588804]]\n"
     ]
    }
   ],
   "source": [
    "final_theta2=g2.tolist()\n",
    "print(final_theta2)\n",
    "theta0=float(final_theta2[0][0])\n",
    "theta1=float(final_theta2[0][1])\n",
    "theta2=float(final_theta2[0][2])\n",
    "theta3=float(final_theta2[0][3])\n",
    "theta4=float(final_theta2[0][4])\n",
    "theta5=float(final_theta2[0][5])\n",
    "theta6=float(final_theta2[0][6])\n",
    "theta7=float(final_theta2[0][7])\n",
    "theta8=float(final_theta2[0][8])\n",
    "theta9=float(final_theta2[0][9])\n",
    "theta10=float(final_theta2[0][10])\n",
    "theta11=float(final_theta2[0][11])\n",
    "theta12=float(final_theta2[0][12])\n",
    "theta13=float(final_theta2[0][13])\n",
    "\n",
    "x_x1=df.iloc[:, 1:2]\n",
    "x_x1=np.matrix(x_x1.values)\n",
    "\n",
    "x_x2=df.iloc[:, 2:3]\n",
    "x_x2=np.matrix(x_x2.values)\n",
    "\n",
    "x_x3=df.iloc[:, 3:4]\n",
    "x_x3=np.matrix(x_x3.values)\n",
    "\n",
    "x_x4=df.iloc[:, 4:5]\n",
    "x_x4=np.matrix(x_x4.values)\n",
    "\n",
    "x_x5=df.iloc[:, 5:6]\n",
    "x_x5=np.matrix(x_x5.values)\n",
    "\n",
    "x_x6=df.iloc[:, 6:7]\n",
    "x_x6=np.matrix(x_x6.values)\n",
    "\n",
    "x_x7=df.iloc[:, 7:8]\n",
    "x_x7=np.matrix(x_x7.values)\n",
    "\n",
    "x_x8=df.iloc[:, 8:9]\n",
    "x_x8=np.matrix(x_x8.values)\n",
    "\n",
    "x_x9=df.iloc[:, 9:10]\n",
    "x_x9=np.matrix(x_x9.values)\n",
    "\n",
    "x_x10=df.iloc[:, 10:11]\n",
    "x_x10=np.matrix(x_x10.values)\n",
    "\n",
    "x_x11=df.iloc[:, 11:12]\n",
    "x_x11=np.matrix(x_x11.values)\n",
    "\n",
    "x_x12=df.iloc[:, 12:13]\n",
    "x_x12=np.matrix(x_x12.values)\n",
    "\n",
    "x_x13=df.iloc[:, 13:14]\n",
    "x_x13=np.matrix(x_x13.values)\n",
    "\n",
    "predicted_y=theta0 + x_x1 * theta1  + x_x2 * theta2 + x_x3 * theta3 +x_x4 * theta4 +x_x5 * theta5 +x_x6 * theta6 +x_x7 * theta7 +x_x8 * theta8+x_x9 * theta9+x_x10 * theta10+x_x11 * theta11+x_x12 * theta12+x_x13 * theta13\n",
    "print(predicted_y)\n",
    "min_pred=predicted_y.min()\n",
    "max_pred=predicted_y.max()"
   ]
  },
  {
   "cell_type": "code",
   "execution_count": 8,
   "metadata": {},
   "outputs": [
    {
     "name": "stdout",
     "output_type": "stream",
     "text": [
      "r2 score for perfect model is 0.4684470954339105\n"
     ]
    }
   ],
   "source": [
    "# Assume y is the actual value and f is the predicted values\n",
    "\n",
    "from sklearn.metrics import r2_score\n",
    "predicted_y[-1]\n",
    "r2 = r2_score(y2, predicted_y)\n",
    "print('r2 score for perfect model is', r2)"
   ]
  },
  {
   "cell_type": "code",
   "execution_count": 9,
   "metadata": {},
   "outputs": [
    {
     "ename": "ValueError",
     "evalue": "Length of passed values is 5760, index implies 1.",
     "output_type": "error",
     "traceback": [
      "\u001b[1;31m---------------------------------------------------------------------------\u001b[0m",
      "\u001b[1;31mValueError\u001b[0m                                Traceback (most recent call last)",
      "\u001b[1;32m<ipython-input-9-4f037643b727>\u001b[0m in \u001b[0;36m<module>\u001b[1;34m\u001b[0m\n\u001b[0;32m      4\u001b[0m \u001b[1;33m\u001b[0m\u001b[0m\n\u001b[0;32m      5\u001b[0m \u001b[1;31m#y2=np.asarray(y2)\u001b[0m\u001b[1;33m\u001b[0m\u001b[1;33m\u001b[0m\u001b[1;33m\u001b[0m\u001b[0m\n\u001b[1;32m----> 6\u001b[1;33m \u001b[0my2\u001b[0m\u001b[1;33m=\u001b[0m\u001b[1;33m(\u001b[0m\u001b[0my2\u001b[0m\u001b[1;33m*\u001b[0m\u001b[1;33m(\u001b[0m\u001b[0mmax_df\u001b[0m\u001b[1;33m-\u001b[0m\u001b[0mmin_df\u001b[0m\u001b[1;33m)\u001b[0m\u001b[1;33m)\u001b[0m \u001b[1;33m+\u001b[0m\u001b[0mmin_df\u001b[0m\u001b[1;33m\u001b[0m\u001b[1;33m\u001b[0m\u001b[0m\n\u001b[0m\u001b[0;32m      7\u001b[0m \u001b[0mprint\u001b[0m\u001b[1;33m(\u001b[0m\u001b[0my2\u001b[0m\u001b[1;33m)\u001b[0m\u001b[1;33m\u001b[0m\u001b[1;33m\u001b[0m\u001b[0m\n\u001b[0;32m      8\u001b[0m \u001b[0mpredicted_y\u001b[0m\u001b[1;33m=\u001b[0m\u001b[1;33m(\u001b[0m\u001b[0mpredicted_y\u001b[0m\u001b[1;33m*\u001b[0m\u001b[1;33m(\u001b[0m\u001b[0mmax_pred\u001b[0m\u001b[1;33m-\u001b[0m\u001b[0mmin_pred\u001b[0m\u001b[1;33m)\u001b[0m\u001b[1;33m)\u001b[0m \u001b[1;33m+\u001b[0m \u001b[0mmin_pred\u001b[0m\u001b[1;33m\u001b[0m\u001b[1;33m\u001b[0m\u001b[0m\n",
      "\u001b[1;32m~\\anaconda3\\lib\\site-packages\\pandas\\core\\ops\\common.py\u001b[0m in \u001b[0;36mnew_method\u001b[1;34m(self, other)\u001b[0m\n\u001b[0;32m     63\u001b[0m         \u001b[0mother\u001b[0m \u001b[1;33m=\u001b[0m \u001b[0mitem_from_zerodim\u001b[0m\u001b[1;33m(\u001b[0m\u001b[0mother\u001b[0m\u001b[1;33m)\u001b[0m\u001b[1;33m\u001b[0m\u001b[1;33m\u001b[0m\u001b[0m\n\u001b[0;32m     64\u001b[0m \u001b[1;33m\u001b[0m\u001b[0m\n\u001b[1;32m---> 65\u001b[1;33m         \u001b[1;32mreturn\u001b[0m \u001b[0mmethod\u001b[0m\u001b[1;33m(\u001b[0m\u001b[0mself\u001b[0m\u001b[1;33m,\u001b[0m \u001b[0mother\u001b[0m\u001b[1;33m)\u001b[0m\u001b[1;33m\u001b[0m\u001b[1;33m\u001b[0m\u001b[0m\n\u001b[0m\u001b[0;32m     66\u001b[0m \u001b[1;33m\u001b[0m\u001b[0m\n\u001b[0;32m     67\u001b[0m     \u001b[1;32mreturn\u001b[0m \u001b[0mnew_method\u001b[0m\u001b[1;33m\u001b[0m\u001b[1;33m\u001b[0m\u001b[0m\n",
      "\u001b[1;32m~\\anaconda3\\lib\\site-packages\\pandas\\core\\ops\\__init__.py\u001b[0m in \u001b[0;36mwrapper\u001b[1;34m(left, right)\u001b[0m\n\u001b[0;32m    343\u001b[0m         \u001b[0mresult\u001b[0m \u001b[1;33m=\u001b[0m \u001b[0marithmetic_op\u001b[0m\u001b[1;33m(\u001b[0m\u001b[0mlvalues\u001b[0m\u001b[1;33m,\u001b[0m \u001b[0mrvalues\u001b[0m\u001b[1;33m,\u001b[0m \u001b[0mop\u001b[0m\u001b[1;33m)\u001b[0m\u001b[1;33m\u001b[0m\u001b[1;33m\u001b[0m\u001b[0m\n\u001b[0;32m    344\u001b[0m \u001b[1;33m\u001b[0m\u001b[0m\n\u001b[1;32m--> 345\u001b[1;33m         \u001b[1;32mreturn\u001b[0m \u001b[0mleft\u001b[0m\u001b[1;33m.\u001b[0m\u001b[0m_construct_result\u001b[0m\u001b[1;33m(\u001b[0m\u001b[0mresult\u001b[0m\u001b[1;33m,\u001b[0m \u001b[0mname\u001b[0m\u001b[1;33m=\u001b[0m\u001b[0mres_name\u001b[0m\u001b[1;33m)\u001b[0m\u001b[1;33m\u001b[0m\u001b[1;33m\u001b[0m\u001b[0m\n\u001b[0m\u001b[0;32m    346\u001b[0m \u001b[1;33m\u001b[0m\u001b[0m\n\u001b[0;32m    347\u001b[0m     \u001b[0mwrapper\u001b[0m\u001b[1;33m.\u001b[0m\u001b[0m__name__\u001b[0m \u001b[1;33m=\u001b[0m \u001b[0mop_name\u001b[0m\u001b[1;33m\u001b[0m\u001b[1;33m\u001b[0m\u001b[0m\n",
      "\u001b[1;32m~\\anaconda3\\lib\\site-packages\\pandas\\core\\series.py\u001b[0m in \u001b[0;36m_construct_result\u001b[1;34m(self, result, name)\u001b[0m\n\u001b[0;32m   2755\u001b[0m         \u001b[1;31m# We do not pass dtype to ensure that the Series constructor\u001b[0m\u001b[1;33m\u001b[0m\u001b[1;33m\u001b[0m\u001b[1;33m\u001b[0m\u001b[0m\n\u001b[0;32m   2756\u001b[0m         \u001b[1;31m#  does inference in the case where `result` has object-dtype.\u001b[0m\u001b[1;33m\u001b[0m\u001b[1;33m\u001b[0m\u001b[1;33m\u001b[0m\u001b[0m\n\u001b[1;32m-> 2757\u001b[1;33m         \u001b[0mout\u001b[0m \u001b[1;33m=\u001b[0m \u001b[0mself\u001b[0m\u001b[1;33m.\u001b[0m\u001b[0m_constructor\u001b[0m\u001b[1;33m(\u001b[0m\u001b[0mresult\u001b[0m\u001b[1;33m,\u001b[0m \u001b[0mindex\u001b[0m\u001b[1;33m=\u001b[0m\u001b[0mself\u001b[0m\u001b[1;33m.\u001b[0m\u001b[0mindex\u001b[0m\u001b[1;33m)\u001b[0m\u001b[1;33m\u001b[0m\u001b[1;33m\u001b[0m\u001b[0m\n\u001b[0m\u001b[0;32m   2758\u001b[0m         \u001b[0mout\u001b[0m \u001b[1;33m=\u001b[0m \u001b[0mout\u001b[0m\u001b[1;33m.\u001b[0m\u001b[0m__finalize__\u001b[0m\u001b[1;33m(\u001b[0m\u001b[0mself\u001b[0m\u001b[1;33m)\u001b[0m\u001b[1;33m\u001b[0m\u001b[1;33m\u001b[0m\u001b[0m\n\u001b[0;32m   2759\u001b[0m \u001b[1;33m\u001b[0m\u001b[0m\n",
      "\u001b[1;32m~\\anaconda3\\lib\\site-packages\\pandas\\core\\series.py\u001b[0m in \u001b[0;36m__init__\u001b[1;34m(self, data, index, dtype, name, copy, fastpath)\u001b[0m\n\u001b[0;32m    311\u001b[0m                 \u001b[1;32mtry\u001b[0m\u001b[1;33m:\u001b[0m\u001b[1;33m\u001b[0m\u001b[1;33m\u001b[0m\u001b[0m\n\u001b[0;32m    312\u001b[0m                     \u001b[1;32mif\u001b[0m \u001b[0mlen\u001b[0m\u001b[1;33m(\u001b[0m\u001b[0mindex\u001b[0m\u001b[1;33m)\u001b[0m \u001b[1;33m!=\u001b[0m \u001b[0mlen\u001b[0m\u001b[1;33m(\u001b[0m\u001b[0mdata\u001b[0m\u001b[1;33m)\u001b[0m\u001b[1;33m:\u001b[0m\u001b[1;33m\u001b[0m\u001b[1;33m\u001b[0m\u001b[0m\n\u001b[1;32m--> 313\u001b[1;33m                         raise ValueError(\n\u001b[0m\u001b[0;32m    314\u001b[0m                             \u001b[1;34mf\"Length of passed values is {len(data)}, \"\u001b[0m\u001b[1;33m\u001b[0m\u001b[1;33m\u001b[0m\u001b[0m\n\u001b[0;32m    315\u001b[0m                             \u001b[1;34mf\"index implies {len(index)}.\"\u001b[0m\u001b[1;33m\u001b[0m\u001b[1;33m\u001b[0m\u001b[0m\n",
      "\u001b[1;31mValueError\u001b[0m: Length of passed values is 5760, index implies 1."
     ]
    }
   ],
   "source": [
    "#Reconvert scaled data\n",
    "#print(max_df - min_df)\n",
    "#print((max_df - min_df) *y2)\n",
    "\n",
    "#y2=np.asarray(y2)\n",
    "y2=(y2*(max_df-min_df)) +min_df\n",
    "print(y2)\n",
    "predicted_y=(predicted_y*(max_pred-min_pred)) + min_pred\n",
    "\n",
    "from sklearn.metrics import mean_squared_log_error\n",
    "RMSLE = np.sqrt(mean_squared_log_error( y2, predicted_y ))\n",
    "print('rms score for perfect model is', RMSLE)\n"
   ]
  },
  {
   "cell_type": "code",
   "execution_count": null,
   "metadata": {},
   "outputs": [],
   "source": []
  }
 ],
 "metadata": {
  "kernelspec": {
   "display_name": "Python 3",
   "language": "python",
   "name": "python3"
  },
  "language_info": {
   "codemirror_mode": {
    "name": "ipython",
    "version": 3
   },
   "file_extension": ".py",
   "mimetype": "text/x-python",
   "name": "python",
   "nbconvert_exporter": "python",
   "pygments_lexer": "ipython3",
   "version": "3.8.5"
  }
 },
 "nbformat": 4,
 "nbformat_minor": 4
}

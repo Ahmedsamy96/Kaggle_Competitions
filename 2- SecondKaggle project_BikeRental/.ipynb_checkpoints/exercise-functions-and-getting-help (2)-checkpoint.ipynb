{
 "cells": [
  {
   "cell_type": "markdown",
   "metadata": {},
   "source": [
    "**This notebook is an exercise in the [Python](https://www.kaggle.com/learn/python) course.  You can reference the tutorial at [this link](https://www.kaggle.com/colinmorris/functions-and-getting-help).**\n",
    "\n",
    "---\n"
   ]
  },
  {
   "cell_type": "markdown",
   "metadata": {},
   "source": [
    "Functions are powerful. Try writing some yourself.\n",
    "\n",
    "As before, don't forget to run the setup code below before jumping into question 1."
   ]
  },
  {
   "cell_type": "code",
   "execution_count": 1,
   "metadata": {
    "_kg_hide-input": true,
    "_kg_hide-output": true,
    "execution": {
     "iopub.execute_input": "2021-08-04T22:06:42.489133Z",
     "iopub.status.busy": "2021-08-04T22:06:42.488613Z",
     "iopub.status.idle": "2021-08-04T22:06:42.494585Z",
     "shell.execute_reply": "2021-08-04T22:06:42.493796Z",
     "shell.execute_reply.started": "2021-08-04T22:06:42.489085Z"
    }
   },
   "outputs": [],
   "source": [
    "# SETUP. You don't need to worry for now about what this code does or how it works.\n",
    "from learntools.core import binder; binder.bind(globals())\n",
    "from learntools.python.ex2 import *\n",
    "print('Setup complete.')"
   ]
  },
  {
   "cell_type": "markdown",
   "metadata": {},
   "source": [
    "# 1.\n",
    "\n",
    "Complete the body of the following function according to its docstring.\n",
    "\n",
    "HINT: Python has a built-in function `round`."
   ]
  },
  {
   "cell_type": "code",
   "execution_count": 2,
   "metadata": {
    "execution": {
     "iopub.execute_input": "2021-08-04T22:06:43.106281Z",
     "iopub.status.busy": "2021-08-04T22:06:43.105889Z",
     "iopub.status.idle": "2021-08-04T22:06:43.114819Z",
     "shell.execute_reply": "2021-08-04T22:06:43.114166Z",
     "shell.execute_reply.started": "2021-08-04T22:06:43.106244Z"
    }
   },
   "outputs": [
    {
     "ename": "NameError",
     "evalue": "name 'q1' is not defined",
     "output_type": "error",
     "traceback": [
      "\u001b[1;31m---------------------------------------------------------------------------\u001b[0m",
      "\u001b[1;31mNameError\u001b[0m                                 Traceback (most recent call last)",
      "\u001b[1;32m<ipython-input-2-de1edace41da>\u001b[0m in \u001b[0;36m<module>\u001b[1;34m\u001b[0m\n\u001b[0;32m     11\u001b[0m \u001b[1;33m\u001b[0m\u001b[0m\n\u001b[0;32m     12\u001b[0m \u001b[1;31m# Check your answer\u001b[0m\u001b[1;33m\u001b[0m\u001b[1;33m\u001b[0m\u001b[1;33m\u001b[0m\u001b[0m\n\u001b[1;32m---> 13\u001b[1;33m \u001b[0mq1\u001b[0m\u001b[1;33m.\u001b[0m\u001b[0mcheck\u001b[0m\u001b[1;33m(\u001b[0m\u001b[1;33m)\u001b[0m\u001b[1;33m\u001b[0m\u001b[1;33m\u001b[0m\u001b[0m\n\u001b[0m",
      "\u001b[1;31mNameError\u001b[0m: name 'q1' is not defined"
     ]
    }
   ],
   "source": [
    "def round_to_two_places(num):\n",
    "    \"\"\"Return the given number rounded to two decimal places. \n",
    "    \n",
    "    >>> round_to_two_places(3.14159)\n",
    "    3.14\n",
    "    \"\"\"\n",
    "    # Replace this body with your own code.\n",
    "    # (\"pass\" is a keyword that does literally nothing. We used it as a placeholder\n",
    "    # because after we begin a code block, Python requires at least one line of code)\n",
    "    return round(num,ndigits=2)\n",
    "\n",
    "# Check your answer\n",
    "q1.check()"
   ]
  },
  {
   "cell_type": "code",
   "execution_count": null,
   "metadata": {
    "execution": {
     "iopub.execute_input": "2021-08-04T22:06:43.116655Z",
     "iopub.status.busy": "2021-08-04T22:06:43.116156Z",
     "iopub.status.idle": "2021-08-04T22:06:43.138314Z",
     "shell.execute_reply": "2021-08-04T22:06:43.137097Z",
     "shell.execute_reply.started": "2021-08-04T22:06:43.116621Z"
    }
   },
   "outputs": [],
   "source": [
    "# Uncomment the following for a hint\n",
    "q1.hint()\n",
    "# Or uncomment the following to peek at the solution\n",
    "#q1.solution()"
   ]
  },
  {
   "cell_type": "markdown",
   "metadata": {},
   "source": [
    "# 2.\n",
    "The help for `round` says that `ndigits` (the second argument) may be negative.\n",
    "What do you think will happen when it is? Try some examples in the following cell."
   ]
  },
  {
   "cell_type": "code",
   "execution_count": null,
   "metadata": {
    "execution": {
     "iopub.execute_input": "2021-08-04T22:06:43.332981Z",
     "iopub.status.busy": "2021-08-04T22:06:43.332454Z",
     "iopub.status.idle": "2021-08-04T22:06:43.340862Z",
     "shell.execute_reply": "2021-08-04T22:06:43.339621Z",
     "shell.execute_reply.started": "2021-08-04T22:06:43.332945Z"
    }
   },
   "outputs": [],
   "source": [
    "# Put your test code here\n",
    "def round_withNegative(num):\n",
    "    \"\"\"Return the given number rounded to two decimal places. \n",
    "    \n",
    "    >>> round_to_two_places(3.14159)\n",
    "    3.14\n",
    "    \"\"\"\n",
    "    # Replace this body with your own code.\n",
    "    # (\"pass\" is a keyword that does literally nothing. We used it as a placeholder\n",
    "    # because after we begin a code block, Python requires at least one line of code)\n",
    "    return round(num,ndigits=-2)\n",
    "\n",
    "# Check your answer\n",
    "q2.check()"
   ]
  },
  {
   "cell_type": "markdown",
   "metadata": {},
   "source": [
    "Can you think of a case where this would be useful?  Once you're ready, run the code cell below to see the answer and to receive credit for completing the problem."
   ]
  },
  {
   "cell_type": "code",
   "execution_count": null,
   "metadata": {
    "execution": {
     "iopub.execute_input": "2021-08-04T22:06:43.995019Z",
     "iopub.status.busy": "2021-08-04T22:06:43.994477Z",
     "iopub.status.idle": "2021-08-04T22:06:44.004043Z",
     "shell.execute_reply": "2021-08-04T22:06:44.002956Z",
     "shell.execute_reply.started": "2021-08-04T22:06:43.994986Z"
    }
   },
   "outputs": [],
   "source": [
    "# Check your answer (Run this code cell to receive credit!)\n",
    "q2.solution()"
   ]
  },
  {
   "cell_type": "markdown",
   "metadata": {},
   "source": [
    "# 3.\n",
    "\n",
    "In the previous exercise, the candy-sharing friends Alice, Bob and Carol tried to split candies evenly. For the sake of their friendship, any candies left over would be smashed. For example, if they collectively bring home 91 candies, they'll take 30 each and smash 1.\n",
    "\n",
    "Below is a simple function that will calculate the number of candies to smash for *any* number of total candies.\n",
    "\n",
    "Modify it so that it optionally takes a second argument representing the number of friends the candies are being split between. If no second argument is provided, it should assume 3 friends, as before.\n",
    "\n",
    "Update the docstring to reflect this new behaviour."
   ]
  },
  {
   "cell_type": "code",
   "execution_count": null,
   "metadata": {
    "execution": {
     "iopub.execute_input": "2021-08-04T22:06:44.006144Z",
     "iopub.status.busy": "2021-08-04T22:06:44.005767Z",
     "iopub.status.idle": "2021-08-04T22:06:44.021047Z",
     "shell.execute_reply": "2021-08-04T22:06:44.020207Z",
     "shell.execute_reply.started": "2021-08-04T22:06:44.006089Z"
    }
   },
   "outputs": [],
   "source": [
    "def to_smash(total_candies, friends_num=3):\n",
    "    \"\"\"Return the number of leftover candies that must be smashed after distributing\n",
    "    the given number of candies evenly between 3 friends.\n",
    "    \n",
    "    >>> to_smash(91)\n",
    "    1\n",
    "    \"\"\"\n",
    "    return total_candies % friends_num\n",
    "\n",
    "# Check your answer\n",
    "q3.check()"
   ]
  },
  {
   "cell_type": "code",
   "execution_count": null,
   "metadata": {
    "execution": {
     "iopub.execute_input": "2021-08-04T22:06:44.023130Z",
     "iopub.status.busy": "2021-08-04T22:06:44.022673Z",
     "iopub.status.idle": "2021-08-04T22:06:44.033159Z",
     "shell.execute_reply": "2021-08-04T22:06:44.032307Z",
     "shell.execute_reply.started": "2021-08-04T22:06:44.023068Z"
    }
   },
   "outputs": [],
   "source": [
    "#q3.hint()"
   ]
  },
  {
   "cell_type": "code",
   "execution_count": null,
   "metadata": {
    "execution": {
     "iopub.execute_input": "2021-08-04T22:06:44.219492Z",
     "iopub.status.busy": "2021-08-04T22:06:44.219077Z",
     "iopub.status.idle": "2021-08-04T22:06:44.223335Z",
     "shell.execute_reply": "2021-08-04T22:06:44.222269Z",
     "shell.execute_reply.started": "2021-08-04T22:06:44.219456Z"
    }
   },
   "outputs": [],
   "source": [
    "#q3.solution()"
   ]
  },
  {
   "cell_type": "markdown",
   "metadata": {},
   "source": [
    "# 4. (Optional)\n",
    "\n",
    "It may not be fun, but reading and understanding error messages will be an important part of your Python career.\n",
    "\n",
    "Each code cell below contains some commented buggy code. For each cell...\n",
    "\n",
    "1. Read the code and predict what you think will happen when it's run.\n",
    "2. Then uncomment the code and run it to see what happens. (**Tip**: In the kernel editor, you can highlight several lines and press `ctrl`+`/` to toggle commenting.)\n",
    "3. Fix the code (so that it accomplishes its intended purpose without throwing an exception)\n",
    "\n",
    "<!-- TODO: should this be autochecked? Delta is probably pretty small. -->"
   ]
  },
  {
   "cell_type": "code",
   "execution_count": null,
   "metadata": {
    "execution": {
     "iopub.execute_input": "2021-08-04T22:06:44.225756Z",
     "iopub.status.busy": "2021-08-04T22:06:44.225139Z",
     "iopub.status.idle": "2021-08-04T22:06:44.240102Z",
     "shell.execute_reply": "2021-08-04T22:06:44.239093Z",
     "shell.execute_reply.started": "2021-08-04T22:06:44.225709Z"
    }
   },
   "outputs": [],
   "source": [
    "round_to_two_places(9.9999)"
   ]
  },
  {
   "cell_type": "code",
   "execution_count": null,
   "metadata": {
    "execution": {
     "iopub.execute_input": "2021-08-04T22:06:45.204285Z",
     "iopub.status.busy": "2021-08-04T22:06:45.203761Z",
     "iopub.status.idle": "2021-08-04T22:06:45.208062Z",
     "shell.execute_reply": "2021-08-04T22:06:45.207194Z",
     "shell.execute_reply.started": "2021-08-04T22:06:45.204251Z"
    }
   },
   "outputs": [],
   "source": [
    "x = -10\n",
    "y = 5\n",
    "# # Which of the two variables above has the smallest absolute value?\n",
    "smallest_abs = abs(min(x, y))"
   ]
  },
  {
   "cell_type": "code",
   "execution_count": null,
   "metadata": {
    "execution": {
     "iopub.execute_input": "2021-08-04T22:06:45.209996Z",
     "iopub.status.busy": "2021-08-04T22:06:45.209544Z",
     "iopub.status.idle": "2021-08-04T22:06:45.226946Z",
     "shell.execute_reply": "2021-08-04T22:06:45.225802Z",
     "shell.execute_reply.started": "2021-08-04T22:06:45.209966Z"
    }
   },
   "outputs": [],
   "source": [
    "def f(x):\n",
    "    y = abs(x)\n",
    "    return y\n",
    "\n",
    "print(f(5))"
   ]
  },
  {
   "cell_type": "markdown",
   "metadata": {},
   "source": [
    "# Keep Going\n",
    "\n",
    "Nice job with the code. Next up, you'll learn about *conditionals*, which you'll need to **[write interesting programs](https://www.kaggle.com/colinmorris/booleans-and-conditionals)**. "
   ]
  },
  {
   "cell_type": "markdown",
   "metadata": {},
   "source": [
    "---\n",
    "\n",
    "\n",
    "\n",
    "\n",
    "*Have questions or comments? Visit the [Learn Discussion forum](https://www.kaggle.com/learn-forum/161283) to chat with other Learners.*"
   ]
  }
 ],
 "metadata": {
  "kernelspec": {
   "display_name": "Python 3",
   "language": "python",
   "name": "python3"
  },
  "language_info": {
   "codemirror_mode": {
    "name": "ipython",
    "version": 3
   },
   "file_extension": ".py",
   "mimetype": "text/x-python",
   "name": "python",
   "nbconvert_exporter": "python",
   "pygments_lexer": "ipython3",
   "version": "3.8.5"
  },
  "learntools_metadata": {
   "lesson_index": 1,
   "type": "exercise"
  }
 },
 "nbformat": 4,
 "nbformat_minor": 4
}
